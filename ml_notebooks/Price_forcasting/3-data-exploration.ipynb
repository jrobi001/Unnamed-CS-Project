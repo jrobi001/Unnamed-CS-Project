{
 "metadata": {
  "language_info": {
   "codemirror_mode": {
    "name": "ipython",
    "version": 3
   },
   "file_extension": ".py",
   "mimetype": "text/x-python",
   "name": "python",
   "nbconvert_exporter": "python",
   "pygments_lexer": "ipython3",
   "version": "3.8.5"
  },
  "orig_nbformat": 2,
  "kernelspec": {
   "name": "python385jvsc74a57bd00173b58be0aa40504b880705d97a20d8b12a68d37bb1b904b4aa7c0e133b8c73",
   "display_name": "Python 3.8.5 64-bit ('base': conda)"
  },
  "metadata": {
   "interpreter": {
    "hash": "0173b58be0aa40504b880705d97a20d8b12a68d37bb1b904b4aa7c0e133b8c73"
   }
  }
 },
 "nbformat": 4,
 "nbformat_minor": 2,
 "cells": [
  {
   "cell_type": "code",
   "execution_count": 8,
   "metadata": {},
   "outputs": [
    {
     "output_type": "stream",
     "name": "stdout",
     "text": [
      "['bitcoin-hourly-w-shared.csv', 'bitcoin-hourly-no-shared.csv']\n"
     ]
    }
   ],
   "source": [
    "import os\n",
    "from datetime import date, timedelta\n",
    "\n",
    "this_folder = os.path.dirname(os.path.abspath(''))\n",
    "\n",
    "dataset_folder = os.path.join(os.path.dirname(this_folder), \"datasets\")\n",
    "\n",
    "print(os.listdir(dataset_folder))\n",
    "\n",
    "w_shared = os.path.join(dataset_folder, \"bitcoin-hourly-w-shared.csv\")\n",
    "no_shared = os.path.join(dataset_folder, \"bitcoin-hourly-no-shared.csv\")"
   ]
  },
  {
   "cell_type": "code",
   "execution_count": 12,
   "metadata": {},
   "outputs": [
    {
     "output_type": "stream",
     "name": "stdout",
     "text": [
      "2021-05-04\n"
     ]
    }
   ],
   "source": [
    "start_point = date(2021, 2, 3)\n",
    "end_point = start_point + timedelta(90)\n",
    "\n",
    "print(end_point)"
   ]
  }
 ]
}